{
 "cells": [
  {
   "cell_type": "code",
   "execution_count": 229,
   "id": "2831ad42",
   "metadata": {},
   "outputs": [
    {
     "name": "stdout",
     "output_type": "stream",
     "text": [
      "15 {'A': [1, 2], 'B': [2, 5], 'C': [3, 7], 'D': [7, 12], 'E': [10, 9]}\n"
     ]
    }
   ],
   "source": [
    "articles = {}\n",
    "capacity = 0\n",
    "\n",
    "def get_values(file_name):\n",
    "    global capacity\n",
    "    file = open(file_name, \"r\")\n",
    "    lines = file.readlines()\n",
    "    capacity = int(lines[0])\n",
    "    for line in lines[1:]:\n",
    "        values = line.split()\n",
    "        articles[values[0]] = list(map(int, values[1:]))\n",
    "\n",
    "get_values(\"sacs/sac3.txt\")\n",
    "print(capacity, articles)"
   ]
  },
  {
   "cell_type": "code",
   "execution_count": 230,
   "id": "732758b1",
   "metadata": {},
   "outputs": [],
   "source": [
    "def get_price(name):\n",
    "    return articles[name][0]\n",
    "\n",
    "def get_weight(name):\n",
    "    return articles[name][1]"
   ]
  },
  {
   "cell_type": "code",
   "execution_count": 231,
   "id": "66abd6c3",
   "metadata": {},
   "outputs": [],
   "source": [
    "grid = [[0]*capacity]*len(articles)\n",
    "\n",
    "def best_choice(w, p, i, prev_line):\n",
    "    prev_price = prev_line[i-1]\n",
    "    if (w == i): return max(p, prev_price)\n",
    "    if (w > i): return prev_price\n",
    "    rest = i - w\n",
    "    new_p = p + prev_line[rest-1]\n",
    "    return max(new_p, prev_price)\n",
    "\n",
    "def fill_grid():\n",
    "    global grid\n",
    "    keys = list(articles.keys())\n",
    "\n",
    "    #remplir la première ligne de grid\n",
    "    i, w, p = 1, get_weight(keys[0]), get_price(keys[0])\n",
    "    while (i <= capacity):\n",
    "        if (w <= i): grid[0][i-1] = p\n",
    "        i += 1\n",
    "\n",
    "    #remplir les autres lignes de grid\n",
    "    l = 1\n",
    "    for (row, obj) in zip(grid, keys[1:]):\n",
    "        i, w, p = 1, get_weight(obj), get_price(obj)\n",
    "        line = row.copy()\n",
    "        while (i <= capacity):\n",
    "            line[i-1] = best_choice(w, p, i, grid[l-1])\n",
    "            i += 1\n",
    "        grid[l] = line\n",
    "        l += 1\n",
    "\n",
    "fill_grid()"
   ]
  },
  {
   "cell_type": "code",
   "execution_count": 232,
   "id": "fb550d35",
   "metadata": {},
   "outputs": [
    {
     "name": "stdout",
     "output_type": "stream",
     "text": [
      "\t\t1\t2\t3\t4\t5\t6\t7\t8\t9\t10\t11\t12\t13\t14\t15\t\n",
      "\n",
      "\n",
      "A(1,2)\t\t0\t1\t1\t1\t1\t1\t1\t1\t1\t1\t1\t1\t1\t1\t1\t\n",
      "B(2,5)\t\t0\t1\t1\t1\t2\t2\t3\t3\t3\t3\t3\t3\t3\t3\t3\t\n",
      "C(3,7)\t\t0\t1\t1\t1\t2\t2\t3\t3\t4\t4\t4\t5\t5\t6\t6\t\n",
      "D(7,12)\t\t0\t1\t1\t1\t2\t2\t3\t3\t4\t4\t4\t7\t7\t8\t8\t\n",
      "E(10,9)\t\t0\t1\t1\t1\t2\t2\t3\t3\t10\t10\t11\t11\t11\t12\t12\t\n"
     ]
    }
   ],
   "source": [
    "def print_grid():\n",
    "    print(\"\\t\\t\", end='')\n",
    "    for i in range(1, capacity+1):\n",
    "        print(i, end='\\t')\n",
    "    print(\"\\n\\n\")\n",
    "    for (line, obj) in zip(grid, articles):\n",
    "        w, p = get_weight(obj), get_price(obj)\n",
    "        print(f\"{obj}({p},{w})\", end='\\t\\t')\n",
    "        for nb in line:\n",
    "            print(nb, end='\\t')\n",
    "        print()\n",
    "\n",
    "print_grid()"
   ]
  },
  {
   "cell_type": "code",
   "execution_count": 233,
   "id": "c1ebb330",
   "metadata": {},
   "outputs": [],
   "source": [
    "best_price = grid[len(articles)-1][capacity-1]\n",
    "\n",
    "def sum_prices(choices):\n",
    "    total = 0\n",
    "    for choice in choices:\n",
    "        total += get_price(choice)\n",
    "    return total\n",
    "\n",
    "def make_choice():\n",
    "    my_choice = []\n",
    "    price = grid[len(articles)-1][capacity-1]\n",
    "    keys = list(articles.keys())\n",
    "    while (not (sum_prices(my_choice) == best_price)):\n",
    "        x, y = 0, 0\n",
    "        for line in grid:\n",
    "            try: \n",
    "                x = line.index(price)\n",
    "                break\n",
    "            except: pass   \n",
    "            y += 1\n",
    "        obj = keys[y]\n",
    "        my_choice.append(obj)\n",
    "        w = get_weight(obj)\n",
    "        price = grid[y][x+1-w]\n",
    "    return(my_choice)\n",
    "\n",
    "bag = make_choice()"
   ]
  },
  {
   "cell_type": "code",
   "execution_count": 234,
   "id": "edf66f2b",
   "metadata": {},
   "outputs": [
    {
     "name": "stdout",
     "output_type": "stream",
     "text": [
      "Item\tPrice(€)\tWeight(kg)\n",
      "E\t10\t\t9\n",
      "B\t2\t\t5\n",
      "\t12\t\t14\n"
     ]
    }
   ],
   "source": [
    "def print_bag():\n",
    "    print(\"Item\\tPrice(€)\\tWeight(kg)\")\n",
    "    pt, wt = 0, 0\n",
    "    for item in bag:\n",
    "        p, w = get_price(item), get_weight(item)\n",
    "        pt += p\n",
    "        wt += w\n",
    "        print(f\"{item}\\t{p}\\t\\t{w}\")\n",
    "    print(f\"\\t{pt}\\t\\t{wt}\")\n",
    "print_bag()"
   ]
  },
  {
   "cell_type": "code",
   "execution_count": null,
   "id": "d111bf5e",
   "metadata": {},
   "outputs": [],
   "source": []
  }
 ],
 "metadata": {
  "kernelspec": {
   "display_name": "Python 3 (ipykernel)",
   "language": "python",
   "name": "python3"
  },
  "language_info": {
   "codemirror_mode": {
    "name": "ipython",
    "version": 3
   },
   "file_extension": ".py",
   "mimetype": "text/x-python",
   "name": "python",
   "nbconvert_exporter": "python",
   "pygments_lexer": "ipython3",
   "version": "3.11.5"
  }
 },
 "nbformat": 4,
 "nbformat_minor": 5
}
